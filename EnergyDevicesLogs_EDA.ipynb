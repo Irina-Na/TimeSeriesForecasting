{
  "nbformat": 4,
  "nbformat_minor": 0,
  "metadata": {
    "colab": {
      "name": "WattsBattery_EDA.ipynb",
      "provenance": [],
      "collapsed_sections": [],
      "toc_visible": true,
      "include_colab_link": true
    },
    "kernelspec": {
      "name": "python3",
      "display_name": "Python 3"
    },
    "language_info": {
      "name": "python"
    }
  },
  "cells": [
    {
      "cell_type": "markdown",
      "metadata": {
        "id": "view-in-github",
        "colab_type": "text"
      },
      "source": [
        "<a href=\"https://colab.research.google.com/github/Irina-Na/TimeSeriesForecasting/blob/main/WattsBattery_EDA.ipynb\" target=\"_parent\"><img src=\"https://colab.research.google.com/assets/colab-badge.svg\" alt=\"Open In Colab\"/></a>"
      ]
    },
    {
      "cell_type": "code",
      "metadata": {
        "id": "fK2YN-LSubiR",
        "colab": {
          "base_uri": "https://localhost:8080/"
        },
        "outputId": "5264d2c5-76ba-4bbd-946a-23bbc929a241"
      },
      "source": [
        "from google.colab import drive\n",
        "drive.mount('/content/drive')"
      ],
      "execution_count": null,
      "outputs": [
        {
          "output_type": "stream",
          "name": "stdout",
          "text": [
            "Mounted at /content/drive\n"
          ]
        }
      ]
    },
    {
      "cell_type": "code",
      "metadata": {
        "id": "zxl9TNj-wrqC",
        "colab": {
          "base_uri": "https://localhost:8080/"
        },
        "outputId": "a5900c35-0a17-4909-be23-3b1854a0a1cf"
      },
      "source": [
        "import numpy as np\n",
        "import pandas as pd\n",
        "import seaborn as sns\n",
        "import sklearn\n",
        "import datetime as dt\n",
        "import calendar\n",
        "import matplotlib\n",
        "\n",
        "from matplotlib import pyplot as plt\n",
        "from sklearn import preprocessing\n",
        "from sklearn.preprocessing import StandardScaler\n",
        "from sklearn.preprocessing import OneHotEncoder\n",
        "from sklearn.preprocessing import MinMaxScaler\n",
        "\n",
        "import tensorflow as tf\n",
        "from tensorflow import keras\n",
        "from tensorflow.keras import layers\n",
        "import plotly.graph_objects as go\n",
        "\n",
        "from tensorflow.keras.models import Sequential\n",
        "from tensorflow.keras.layers import Dense, LSTM, Dropout, RepeatVector, TimeDistributed\n",
        "\n",
        "%matplotlib inline\n",
        "import os\n"
      ],
      "execution_count": null,
      "outputs": [
        {
          "output_type": "stream",
          "name": "stderr",
          "text": [
            "/usr/local/lib/python3.7/dist-packages/ipykernel_launcher.py:33: SettingWithCopyWarning:\n",
            "\n",
            "\n",
            "A value is trying to be set on a copy of a slice from a DataFrame\n",
            "\n",
            "See the caveats in the documentation: https://pandas.pydata.org/pandas-docs/stable/user_guide/indexing.html#returning-a-view-versus-a-copy\n",
            "\n"
          ]
        },
        {
          "output_type": "execute_result",
          "data": {
            "text/plain": [
              "True"
            ]
          },
          "metadata": {},
          "execution_count": 3
        }
      ]
    },
    {
      "cell_type": "markdown",
      "metadata": {
        "id": "up6_fAokvjHs"
      },
      "source": [
        "# Made dataset for each devices"
      ]
    },
    {
      "cell_type": "code",
      "metadata": {
        "colab": {
          "base_uri": "https://localhost:8080/"
        },
        "id": "lT5Mdt5OKaNS",
        "outputId": "06120784-94f1-4633-90ee-5254aa04064f"
      },
      "source": [
        "dataset_path = \"/content/drive/MyDrive/Colab Notebooks/UB/data\"\n",
        "dataset = pd.DataFrame([])\n",
        "# Create a list of devices from the folder names \n",
        "list_folders = os.listdir(\"{}/\".format(dataset_path))\n",
        "\n",
        "# Get documents per each device from the corresponding folder\n",
        "for folder in list_folders:\n",
        "        list_of_files = os.listdir(\"{}/{}\".format(dataset_path, folder))\n",
        "        #Sorting by numbers in file name\n",
        "        files_names=pd.DataFrame({'Names':list_of_files})\n",
        "        files_names['Count']=[x[3:-4] for x in list_of_files]\n",
        "        files_names.sort_values('Count', inplace=True)\n",
        "        list_of_files=files_names.Names.values\n",
        "         # add to the Pandas data frame each .csv in the folder\n",
        "        for file in list_of_files:\n",
        "            if file.find(\".csv\") != -1 :\n",
        "                data=pd.read_csv(\"{}/{}/{}\".format(dataset_path, folder, file), sep=';' )\n",
        "                dataset = dataset.append(data)\n",
        "\n",
        "# reset index in the final data frame to get identifier column for each document\n",
        "        dataset = dataset.reset_index(drop=True)\n",
        "        dataset.to_csv(\"{}/{}.csv\".format(dataset_path, folder) )\n",
        "        print(dataset.info(verbose=False))"
      ],
      "execution_count": null,
      "outputs": [
        {
          "output_type": "stream",
          "name": "stdout",
          "text": [
            "<class 'pandas.core.frame.DataFrame'>\n",
            "RangeIndex: 339938 entries, 0 to 339937\n",
            "Columns: 31 entries, time to Stack_uptime\n",
            "dtypes: float64(22), int64(6), object(3)\n",
            "memory usage: 80.4+ MB\n",
            "None\n",
            "<class 'pandas.core.frame.DataFrame'>\n",
            "RangeIndex: 532941 entries, 0 to 532940\n",
            "Columns: 31 entries, time to Stack_uptime\n",
            "dtypes: float64(22), int64(6), object(3)\n",
            "memory usage: 126.0+ MB\n",
            "None\n",
            "<class 'pandas.core.frame.DataFrame'>\n",
            "RangeIndex: 1720996 entries, 0 to 1720995\n",
            "Columns: 31 entries, time to Stack_uptime\n",
            "dtypes: float64(22), int64(6), object(3)\n",
            "memory usage: 407.0+ MB\n",
            "None\n",
            "<class 'pandas.core.frame.DataFrame'>\n",
            "RangeIndex: 2336188 entries, 0 to 2336187\n",
            "Columns: 31 entries, time to Stack_uptime\n",
            "dtypes: float64(22), int64(6), object(3)\n",
            "memory usage: 552.5+ MB\n",
            "None\n",
            "<class 'pandas.core.frame.DataFrame'>\n",
            "RangeIndex: 4276470 entries, 0 to 4276469\n",
            "Columns: 31 entries, time to Stack_uptime\n",
            "dtypes: float64(22), int64(6), object(3)\n",
            "memory usage: 1011.4+ MB\n",
            "None\n",
            "<class 'pandas.core.frame.DataFrame'>\n",
            "RangeIndex: 4883933 entries, 0 to 4883932\n",
            "Columns: 31 entries, time to Stack_uptime\n",
            "dtypes: float64(22), int64(6), object(3)\n",
            "memory usage: 1.1+ GB\n",
            "None\n"
          ]
        }
      ]
    },
    {
      "cell_type": "code",
      "metadata": {
        "colab": {
          "base_uri": "https://localhost:8080/"
        },
        "id": "8V6GTL5BdAYg",
        "outputId": "ac006587-de35-4237-8dbe-76695366462c"
      },
      "source": [
        "dataset.info"
      ],
      "execution_count": null,
      "outputs": [
        {
          "output_type": "execute_result",
          "data": {
            "text/plain": [
              "<bound method DataFrame.info of                                 time  ...  Stack_uptime\n",
              "0        2021-Aug-19 21:03:08.100363  ...       1264954\n",
              "1        2021-Aug-19 21:03:08.100363  ...       1264954\n",
              "2        2021-Aug-19 21:03:38.470066  ...       1264984\n",
              "3        2021-Aug-19 21:03:38.470066  ...       1264984\n",
              "4        2021-Aug-19 21:04:08.831579  ...       1265015\n",
              "...                              ...  ...           ...\n",
              "4883928  2021-Sep-07 13:40:59.596221  ...        106480\n",
              "4883929  2021-Sep-07 13:40:59.712709  ...        106480\n",
              "4883930  2021-Sep-07 13:41:04.608093  ...        106485\n",
              "4883931  2021-Sep-07 13:41:04.608093  ...        106485\n",
              "4883932  2021-Sep-07 13:41:19.698433  ...        106500\n",
              "\n",
              "[4883933 rows x 31 columns]>"
            ]
          },
          "metadata": {},
          "execution_count": 35
        }
      ]
    },
    {
      "cell_type": "markdown",
      "metadata": {
        "id": "RA2mkqaPB-E-"
      },
      "source": [
        "# Read and explore datasets"
      ]
    },
    {
      "cell_type": "code",
      "metadata": {
        "id": "tD_nlrmxWv6m",
        "colab": {
          "base_uri": "https://localhost:8080/"
        },
        "outputId": "de081674-2f72-42fa-d371-0026e26b65e0"
      },
      "source": [
        "df=pd.read_csv('/content/drive/MyDrive/Colab Notebooks/UB/data/1.csv')\n",
        "df=df[df.num.isin([255])]\n",
        "df.columns"
      ],
      "execution_count": null,
      "outputs": [
        {
          "output_type": "execute_result",
          "data": {
            "text/plain": [
              "Index(['Unnamed: 0', 'time', 'num', 'Errors', 'Consumption/battery_from_grid',\n",
              "       'Consumption/load_from_grid', 'Consumption/battery_from_solar',\n",
              "       'Consumption/load_from_solar', 'Consumption/load_from_battery',\n",
              "       'Reserve/charge_level', 'Lowlevel_state', 'Battery/remaining_capacity',\n",
              "       'Battery/full_capacity', 'Battery/time_to_discharge',\n",
              "       'MPPT/Input_voltage', 'Temperature/#1', 'Cell/#01', 'Cell/#02',\n",
              "       'Cell/#03', 'Cell/#04', 'Cell/#05', 'Cell/#06', 'Cell/#07', 'Cell/#08',\n",
              "       'Cell/#09', 'Cell/#10', 'Cell/#11', 'Cell/#12', 'Cell/#13',\n",
              "       'Input/RMS_voltage', 'Invertor/output_RMS_voltage', 'Stack_uptime'],\n",
              "      dtype='object')"
            ]
          },
          "metadata": {},
          "execution_count": 65
        }
      ]
    },
    {
      "cell_type": "code",
      "metadata": {
        "colab": {
          "base_uri": "https://localhost:8080/",
          "height": 422
        },
        "id": "h9PEKDuei_CV",
        "outputId": "d934bd92-975b-4b9c-dba6-9b945ead66bd"
      },
      "source": [
        "df[['Consumption/load_from_grid', 'Consumption/load_from_solar', 'Consumption/load_from_battery']]"
      ],
      "execution_count": null,
      "outputs": [
        {
          "output_type": "execute_result",
          "data": {
            "text/html": [
              "<div>\n",
              "<style scoped>\n",
              "    .dataframe tbody tr th:only-of-type {\n",
              "        vertical-align: middle;\n",
              "    }\n",
              "\n",
              "    .dataframe tbody tr th {\n",
              "        vertical-align: top;\n",
              "    }\n",
              "\n",
              "    .dataframe thead th {\n",
              "        text-align: right;\n",
              "    }\n",
              "</style>\n",
              "<table border=\"1\" class=\"dataframe\">\n",
              "  <thead>\n",
              "    <tr style=\"text-align: right;\">\n",
              "      <th></th>\n",
              "      <th>Consumption/load_from_grid</th>\n",
              "      <th>Consumption/load_from_solar</th>\n",
              "      <th>Consumption/load_from_battery</th>\n",
              "    </tr>\n",
              "  </thead>\n",
              "  <tbody>\n",
              "    <tr>\n",
              "      <th>1</th>\n",
              "      <td>141.0</td>\n",
              "      <td>0.0</td>\n",
              "      <td>0.0</td>\n",
              "    </tr>\n",
              "    <tr>\n",
              "      <th>3</th>\n",
              "      <td>140.0</td>\n",
              "      <td>0.0</td>\n",
              "      <td>0.0</td>\n",
              "    </tr>\n",
              "    <tr>\n",
              "      <th>5</th>\n",
              "      <td>140.0</td>\n",
              "      <td>0.0</td>\n",
              "      <td>0.0</td>\n",
              "    </tr>\n",
              "    <tr>\n",
              "      <th>7</th>\n",
              "      <td>140.0</td>\n",
              "      <td>0.0</td>\n",
              "      <td>0.0</td>\n",
              "    </tr>\n",
              "    <tr>\n",
              "      <th>9</th>\n",
              "      <td>140.0</td>\n",
              "      <td>0.0</td>\n",
              "      <td>0.0</td>\n",
              "    </tr>\n",
              "    <tr>\n",
              "      <th>...</th>\n",
              "      <td>...</td>\n",
              "      <td>...</td>\n",
              "      <td>...</td>\n",
              "    </tr>\n",
              "    <tr>\n",
              "      <th>532932</th>\n",
              "      <td>0.0</td>\n",
              "      <td>0.0</td>\n",
              "      <td>0.0</td>\n",
              "    </tr>\n",
              "    <tr>\n",
              "      <th>532934</th>\n",
              "      <td>0.0</td>\n",
              "      <td>0.0</td>\n",
              "      <td>0.0</td>\n",
              "    </tr>\n",
              "    <tr>\n",
              "      <th>532936</th>\n",
              "      <td>0.0</td>\n",
              "      <td>0.0</td>\n",
              "      <td>0.0</td>\n",
              "    </tr>\n",
              "    <tr>\n",
              "      <th>532938</th>\n",
              "      <td>0.0</td>\n",
              "      <td>0.0</td>\n",
              "      <td>0.0</td>\n",
              "    </tr>\n",
              "    <tr>\n",
              "      <th>532940</th>\n",
              "      <td>0.0</td>\n",
              "      <td>0.0</td>\n",
              "      <td>0.0</td>\n",
              "    </tr>\n",
              "  </tbody>\n",
              "</table>\n",
              "<p>262643 rows × 3 columns</p>\n",
              "</div>"
            ],
            "text/plain": [
              "        Consumption/load_from_grid  ...  Consumption/load_from_battery\n",
              "1                            141.0  ...                            0.0\n",
              "3                            140.0  ...                            0.0\n",
              "5                            140.0  ...                            0.0\n",
              "7                            140.0  ...                            0.0\n",
              "9                            140.0  ...                            0.0\n",
              "...                            ...  ...                            ...\n",
              "532932                         0.0  ...                            0.0\n",
              "532934                         0.0  ...                            0.0\n",
              "532936                         0.0  ...                            0.0\n",
              "532938                         0.0  ...                            0.0\n",
              "532940                         0.0  ...                            0.0\n",
              "\n",
              "[262643 rows x 3 columns]"
            ]
          },
          "metadata": {},
          "execution_count": 26
        }
      ]
    },
    {
      "cell_type": "code",
      "metadata": {
        "id": "VMR4UBKms6lZ",
        "colab": {
          "base_uri": "https://localhost:8080/",
          "height": 442
        },
        "outputId": "3c04141d-9e59-458a-928c-2c0656d8d1f9"
      },
      "source": [
        "cols2=['Errors', 'Consumption/battery_from_grid',\n",
        "       'Consumption/load_from_grid', 'Consumption/battery_from_solar',\n",
        "       'Consumption/load_from_solar', 'Consumption/load_from_battery',\n",
        "       'Reserve/charge_level', 'Lowlevel_state', 'Battery/remaining_capacity',\n",
        "       'Battery/full_capacity', 'Battery/time_to_discharge',\n",
        "       'MPPT/Input_voltage', 'Temperature/#1', 'Input/RMS_voltage', 'Invertor/output_RMS_voltage', 'Stack_uptime']\n",
        "\n",
        "df['Full_consumption']=df['Consumption/load_from_grid']+ df['Consumption/load_from_solar']+ df['Consumption/load_from_battery']\n",
        "\n",
        "df[['Consumption/load_from_grid','Consumption/load_from_solar','Consumption/load_from_battery', 'Full_consumption']]"
      ],
      "execution_count": null,
      "outputs": [
        {
          "output_type": "execute_result",
          "data": {
            "text/html": [
              "<div>\n",
              "<style scoped>\n",
              "    .dataframe tbody tr th:only-of-type {\n",
              "        vertical-align: middle;\n",
              "    }\n",
              "\n",
              "    .dataframe tbody tr th {\n",
              "        vertical-align: top;\n",
              "    }\n",
              "\n",
              "    .dataframe thead th {\n",
              "        text-align: right;\n",
              "    }\n",
              "</style>\n",
              "<table border=\"1\" class=\"dataframe\">\n",
              "  <thead>\n",
              "    <tr style=\"text-align: right;\">\n",
              "      <th></th>\n",
              "      <th>Consumption/load_from_grid</th>\n",
              "      <th>Consumption/load_from_solar</th>\n",
              "      <th>Consumption/load_from_battery</th>\n",
              "      <th>Full_consumption</th>\n",
              "    </tr>\n",
              "  </thead>\n",
              "  <tbody>\n",
              "    <tr>\n",
              "      <th>1</th>\n",
              "      <td>141.0</td>\n",
              "      <td>0.0</td>\n",
              "      <td>0.0</td>\n",
              "      <td>141.0</td>\n",
              "    </tr>\n",
              "    <tr>\n",
              "      <th>3</th>\n",
              "      <td>140.0</td>\n",
              "      <td>0.0</td>\n",
              "      <td>0.0</td>\n",
              "      <td>140.0</td>\n",
              "    </tr>\n",
              "    <tr>\n",
              "      <th>5</th>\n",
              "      <td>140.0</td>\n",
              "      <td>0.0</td>\n",
              "      <td>0.0</td>\n",
              "      <td>140.0</td>\n",
              "    </tr>\n",
              "    <tr>\n",
              "      <th>7</th>\n",
              "      <td>140.0</td>\n",
              "      <td>0.0</td>\n",
              "      <td>0.0</td>\n",
              "      <td>140.0</td>\n",
              "    </tr>\n",
              "    <tr>\n",
              "      <th>9</th>\n",
              "      <td>140.0</td>\n",
              "      <td>0.0</td>\n",
              "      <td>0.0</td>\n",
              "      <td>140.0</td>\n",
              "    </tr>\n",
              "    <tr>\n",
              "      <th>...</th>\n",
              "      <td>...</td>\n",
              "      <td>...</td>\n",
              "      <td>...</td>\n",
              "      <td>...</td>\n",
              "    </tr>\n",
              "    <tr>\n",
              "      <th>532932</th>\n",
              "      <td>0.0</td>\n",
              "      <td>0.0</td>\n",
              "      <td>0.0</td>\n",
              "      <td>0.0</td>\n",
              "    </tr>\n",
              "    <tr>\n",
              "      <th>532934</th>\n",
              "      <td>0.0</td>\n",
              "      <td>0.0</td>\n",
              "      <td>0.0</td>\n",
              "      <td>0.0</td>\n",
              "    </tr>\n",
              "    <tr>\n",
              "      <th>532936</th>\n",
              "      <td>0.0</td>\n",
              "      <td>0.0</td>\n",
              "      <td>0.0</td>\n",
              "      <td>0.0</td>\n",
              "    </tr>\n",
              "    <tr>\n",
              "      <th>532938</th>\n",
              "      <td>0.0</td>\n",
              "      <td>0.0</td>\n",
              "      <td>0.0</td>\n",
              "      <td>0.0</td>\n",
              "    </tr>\n",
              "    <tr>\n",
              "      <th>532940</th>\n",
              "      <td>0.0</td>\n",
              "      <td>0.0</td>\n",
              "      <td>0.0</td>\n",
              "      <td>0.0</td>\n",
              "    </tr>\n",
              "  </tbody>\n",
              "</table>\n",
              "<p>262643 rows × 4 columns</p>\n",
              "</div>"
            ],
            "text/plain": [
              "        Consumption/load_from_grid  ...  Full_consumption\n",
              "1                            141.0  ...             141.0\n",
              "3                            140.0  ...             140.0\n",
              "5                            140.0  ...             140.0\n",
              "7                            140.0  ...             140.0\n",
              "9                            140.0  ...             140.0\n",
              "...                            ...  ...               ...\n",
              "532932                         0.0  ...               0.0\n",
              "532934                         0.0  ...               0.0\n",
              "532936                         0.0  ...               0.0\n",
              "532938                         0.0  ...               0.0\n",
              "532940                         0.0  ...               0.0\n",
              "\n",
              "[262643 rows x 4 columns]"
            ]
          },
          "metadata": {},
          "execution_count": 66
        }
      ]
    },
    {
      "cell_type": "code",
      "metadata": {
        "colab": {
          "base_uri": "https://localhost:8080/",
          "height": 1000
        },
        "id": "HI7Q3oeX3AyG",
        "outputId": "d2bf1a03-e9cb-465c-81fe-22b2cf66c90f"
      },
      "source": [
        "fig, axes = plt.subplots(4, 4, figsize=(18, 17), sharey=True)\n",
        "for i in range(len(cols2)):\n",
        "    sns.countplot(x=cols2[i], data=df, ax=axes[int(i/4), int(i%4)])"
      ],
      "execution_count": null,
      "outputs": [
        {
          "output_type": "error",
          "ename": "IndexError",
          "evalue": "ignored",
          "traceback": [
            "\u001b[0;31m---------------------------------------------------------------------------\u001b[0m",
            "\u001b[0;31mIndexError\u001b[0m                                Traceback (most recent call last)",
            "\u001b[0;32m<ipython-input-31-9e4001f5f343>\u001b[0m in \u001b[0;36m<module>\u001b[0;34m()\u001b[0m\n\u001b[1;32m      1\u001b[0m \u001b[0mfig\u001b[0m\u001b[0;34m,\u001b[0m \u001b[0maxes\u001b[0m \u001b[0;34m=\u001b[0m \u001b[0mplt\u001b[0m\u001b[0;34m.\u001b[0m\u001b[0msubplots\u001b[0m\u001b[0;34m(\u001b[0m\u001b[0;36m4\u001b[0m\u001b[0;34m,\u001b[0m \u001b[0;36m4\u001b[0m\u001b[0;34m,\u001b[0m \u001b[0mfigsize\u001b[0m\u001b[0;34m=\u001b[0m\u001b[0;34m(\u001b[0m\u001b[0;36m18\u001b[0m\u001b[0;34m,\u001b[0m \u001b[0;36m17\u001b[0m\u001b[0;34m)\u001b[0m\u001b[0;34m,\u001b[0m \u001b[0msharey\u001b[0m\u001b[0;34m=\u001b[0m\u001b[0;32mTrue\u001b[0m\u001b[0;34m)\u001b[0m\u001b[0;34m\u001b[0m\u001b[0;34m\u001b[0m\u001b[0m\n\u001b[1;32m      2\u001b[0m \u001b[0;32mfor\u001b[0m \u001b[0mi\u001b[0m \u001b[0;32min\u001b[0m \u001b[0mrange\u001b[0m\u001b[0;34m(\u001b[0m\u001b[0mlen\u001b[0m\u001b[0;34m(\u001b[0m\u001b[0mcols2\u001b[0m\u001b[0;34m)\u001b[0m\u001b[0;34m)\u001b[0m\u001b[0;34m:\u001b[0m\u001b[0;34m\u001b[0m\u001b[0;34m\u001b[0m\u001b[0m\n\u001b[0;32m----> 3\u001b[0;31m     \u001b[0msns\u001b[0m\u001b[0;34m.\u001b[0m\u001b[0mcountplot\u001b[0m\u001b[0;34m(\u001b[0m\u001b[0mx\u001b[0m\u001b[0;34m=\u001b[0m\u001b[0mcols2\u001b[0m\u001b[0;34m[\u001b[0m\u001b[0mi\u001b[0m\u001b[0;34m]\u001b[0m\u001b[0;34m,\u001b[0m \u001b[0mdata\u001b[0m\u001b[0;34m=\u001b[0m\u001b[0mdf\u001b[0m\u001b[0;34m,\u001b[0m \u001b[0max\u001b[0m\u001b[0;34m=\u001b[0m\u001b[0maxes\u001b[0m\u001b[0;34m[\u001b[0m\u001b[0mint\u001b[0m\u001b[0;34m(\u001b[0m\u001b[0mi\u001b[0m\u001b[0;34m/\u001b[0m\u001b[0;36m4\u001b[0m\u001b[0;34m)\u001b[0m\u001b[0;34m,\u001b[0m \u001b[0mint\u001b[0m\u001b[0;34m(\u001b[0m\u001b[0mi\u001b[0m\u001b[0;34m%\u001b[0m\u001b[0;36m4\u001b[0m\u001b[0;34m)\u001b[0m\u001b[0;34m]\u001b[0m\u001b[0;34m)\u001b[0m\u001b[0;34m\u001b[0m\u001b[0;34m\u001b[0m\u001b[0m\n\u001b[0m",
            "\u001b[0;31mIndexError\u001b[0m: index 4 is out of bounds for axis 0 with size 4"
          ]
        },
        {
          "output_type": "display_data",
          "data": {
            "image/png": "[encoded data removed]",
            "text/plain": [
              "<Figure size 1296x1224 with 16 Axes>"
            ]
          },
          "metadata": {
            "needs_background": "light"
          }
        }
      ]
    },
    {
      "cell_type": "markdown",
      "metadata": {
        "id": "RlBVXEkBtoi2"
      },
      "source": [
        "## Add time features and check if logs is monotonic increasing"
      ]
    },
    {
      "cell_type": "code",
      "metadata": {
        "id": "CTuIWEM2FTep",
        "colab": {
          "base_uri": "https://localhost:8080/"
        },
        "outputId": "3771f621-2521-40e6-f279-80212fba0d2f"
      },
      "source": [
        "df.time=pd.to_datetime(df.time)\n",
        "df['Date']=df.time.dt.date\n",
        "df.set_index('time', inplace=True)\n",
        "df.index.is_monotonic_increasing"
      ],
      "execution_count": null,
      "outputs": [
        {
          "output_type": "execute_result",
          "data": {
            "text/plain": [
              "False"
            ]
          },
          "metadata": {},
          "execution_count": 67
        }
      ]
    },
    {
      "cell_type": "markdown",
      "metadata": {
        "id": "hrJXaqJfu2mK"
      },
      "source": [
        "There is no continuous sequence in the index. The outliers of the time series are shown in the graph:"
      ]
    },
    {
      "cell_type": "code",
      "metadata": {
        "colab": {
          "base_uri": "https://localhost:8080/",
          "height": 283
        },
        "id": "RZcoGlp3S0-h",
        "outputId": "fc41236d-22c1-4aa8-f708-547bac50597d"
      },
      "source": [
        "plt.plot(df.index, 'bo')\n"
      ],
      "execution_count": null,
      "outputs": [
        {
          "output_type": "execute_result",
          "data": {
            "text/plain": [
              "[<matplotlib.lines.Line2D at 0x7fe236f6ff50>]"
            ]
          },
          "metadata": {},
          "execution_count": 47
        },
        {
          "output_type": "display_data",
          "data": {
            "image/png": "[encoded data removed]",
            "text/plain": [
              "<Figure size 432x288 with 1 Axes>"
            ]
          },
          "metadata": {
            "needs_background": "light"
          }
        }
      ]
    },
    {
      "cell_type": "markdown",
      "metadata": {
        "id": "BG8ycq1Ty5Oa"
      },
      "source": [
        "There is outliars (from '00 years). Will temporarily delete them and check monotonity"
      ]
    },
    {
      "cell_type": "code",
      "metadata": {
        "colab": {
          "base_uri": "https://localhost:8080/"
        },
        "id": "YZqlbi0lmmPx",
        "outputId": "e842cc5b-07b8-4437-a0b0-c7703ad6849f"
      },
      "source": [
        "df=df['Full_consumption'][df['Date'] > datetime.date(2021,1,1)]\n",
        "df.index.is_monotonic_increasing"
      ],
      "execution_count": null,
      "outputs": [
        {
          "output_type": "execute_result",
          "data": {
            "text/plain": [
              "False"
            ]
          },
          "metadata": {},
          "execution_count": 68
        }
      ]
    },
    {
      "cell_type": "markdown",
      "metadata": {
        "id": "3JupR69uz8Y_"
      },
      "source": [
        "Unfortunately timeseries don't monotonic. Will explore it:"
      ]
    },
    {
      "cell_type": "code",
      "metadata": {
        "colab": {
          "base_uri": "https://localhost:8080/"
        },
        "id": "jYjp8Rlvz5AF",
        "outputId": "cd0bc884-a556-4be5-84b8-82cef39fca92"
      },
      "source": [
        "df['Time']=df.index\n",
        "\n",
        "for i in range(1,len(df))[:10000]:\n",
        "  if df.Time[i] < df.Time[i-1]:\n",
        "    print(f'Timestamp {i}: {df.Time[i]} after {i-1}  {df.Time[i-1]}')"
      ],
      "execution_count": null,
      "outputs": [
        {
          "output_type": "stream",
          "name": "stdout",
          "text": [
            "Timestamp 2404: 2021-08-13 02:40:15.190418 after 2403  2021-08-20 15:20:25.271558\n",
            "Timestamp 4824: 2021-08-12 08:14:08.524125 after 4823  2021-08-13 19:15:28.135506\n",
            "Timestamp 7234: 2021-08-10 20:06:31.016932 after 7233  2021-08-13 02:40:00.126429\n"
          ]
        }
      ]
    },
    {
      "cell_type": "code",
      "metadata": {
        "colab": {
          "base_uri": "https://localhost:8080/"
        },
        "id": "BBCclMmam9l7",
        "outputId": "88202abe-7367-4734-fb8a-62d528546b24"
      },
      "source": [
        "df.sort_index(inplace=True)\n",
        "df.index.is_monotonic_increasing"
      ],
      "execution_count": null,
      "outputs": [
        {
          "output_type": "execute_result",
          "data": {
            "text/plain": [
              "True"
            ]
          },
          "metadata": {},
          "execution_count": 69
        }
      ]
    },
    {
      "cell_type": "markdown",
      "metadata": {
        "id": "28u96H2G2aLc"
      },
      "source": [
        "After sorting by index, the timeseries becomes monotonically increasing."
      ]
    },
    {
      "cell_type": "code",
      "metadata": {
        "id": "ahuvgMHg1Y_L"
      },
      "source": [
        "cols=['Full_consumption', 'Weekday', 'Hour','Reserve/charge_level', 'Lowlevel_state', 'Battery/remaining_capacity',\n",
        "       'Battery/full_capacity', 'Battery/time_to_discharge',\n",
        "       'MPPT/Input_voltage', 'Temperature/#1',  'Input/RMS_voltage', 'Invertor/output_RMS_voltage', 'Stack_uptime'  ]"
      ],
      "execution_count": null,
      "outputs": []
    },
    {
      "cell_type": "code",
      "metadata": {
        "colab": {
          "base_uri": "https://localhost:8080/",
          "height": 441
        },
        "id": "fxdx16HO2lPT",
        "outputId": "b0e115b0-06c4-430c-eb23-a9dffbaf4265"
      },
      "source": [
        "df[cols].corr()"
      ],
      "execution_count": null,
      "outputs": [
        {
          "output_type": "execute_result",
          "data": {
            "text/html": [
              "<div>\n",
              "<style scoped>\n",
              "    .dataframe tbody tr th:only-of-type {\n",
              "        vertical-align: middle;\n",
              "    }\n",
              "\n",
              "    .dataframe tbody tr th {\n",
              "        vertical-align: top;\n",
              "    }\n",
              "\n",
              "    .dataframe thead th {\n",
              "        text-align: right;\n",
              "    }\n",
              "</style>\n",
              "<table border=\"1\" class=\"dataframe\">\n",
              "  <thead>\n",
              "    <tr style=\"text-align: right;\">\n",
              "      <th></th>\n",
              "      <th>Full_consumption</th>\n",
              "      <th>Weekday</th>\n",
              "      <th>Hour</th>\n",
              "      <th>Reserve/charge_level</th>\n",
              "      <th>Battery/remaining_capacity</th>\n",
              "      <th>Battery/full_capacity</th>\n",
              "      <th>Battery/time_to_discharge</th>\n",
              "      <th>MPPT/Input_voltage</th>\n",
              "      <th>Temperature/#1</th>\n",
              "      <th>Input/RMS_voltage</th>\n",
              "      <th>Invertor/output_RMS_voltage</th>\n",
              "      <th>Stack_uptime</th>\n",
              "    </tr>\n",
              "  </thead>\n",
              "  <tbody>\n",
              "    <tr>\n",
              "      <th>Full_consumption</th>\n",
              "      <td>1.000000</td>\n",
              "      <td>0.168842</td>\n",
              "      <td>0.012836</td>\n",
              "      <td>0.077514</td>\n",
              "      <td>0.167760</td>\n",
              "      <td>0.188557</td>\n",
              "      <td>0.163058</td>\n",
              "      <td>0.045127</td>\n",
              "      <td>0.195122</td>\n",
              "      <td>-0.147897</td>\n",
              "      <td>0.030535</td>\n",
              "      <td>-0.017459</td>\n",
              "    </tr>\n",
              "    <tr>\n",
              "      <th>Weekday</th>\n",
              "      <td>0.168842</td>\n",
              "      <td>1.000000</td>\n",
              "      <td>-0.021444</td>\n",
              "      <td>0.133911</td>\n",
              "      <td>-0.050194</td>\n",
              "      <td>-0.067393</td>\n",
              "      <td>-0.002825</td>\n",
              "      <td>0.076392</td>\n",
              "      <td>0.047651</td>\n",
              "      <td>-0.007029</td>\n",
              "      <td>-0.102207</td>\n",
              "      <td>-0.032032</td>\n",
              "    </tr>\n",
              "    <tr>\n",
              "      <th>Hour</th>\n",
              "      <td>0.012836</td>\n",
              "      <td>-0.021444</td>\n",
              "      <td>1.000000</td>\n",
              "      <td>-0.036265</td>\n",
              "      <td>-0.024999</td>\n",
              "      <td>-0.002455</td>\n",
              "      <td>0.000726</td>\n",
              "      <td>-0.172579</td>\n",
              "      <td>-0.030268</td>\n",
              "      <td>-0.084616</td>\n",
              "      <td>-0.041952</td>\n",
              "      <td>-0.030420</td>\n",
              "    </tr>\n",
              "    <tr>\n",
              "      <th>Reserve/charge_level</th>\n",
              "      <td>0.077514</td>\n",
              "      <td>0.133911</td>\n",
              "      <td>-0.036265</td>\n",
              "      <td>1.000000</td>\n",
              "      <td>0.166897</td>\n",
              "      <td>0.038357</td>\n",
              "      <td>-0.008331</td>\n",
              "      <td>0.234052</td>\n",
              "      <td>0.451428</td>\n",
              "      <td>0.272024</td>\n",
              "      <td>0.017358</td>\n",
              "      <td>0.226275</td>\n",
              "    </tr>\n",
              "    <tr>\n",
              "      <th>Battery/remaining_capacity</th>\n",
              "      <td>0.167760</td>\n",
              "      <td>-0.050194</td>\n",
              "      <td>-0.024999</td>\n",
              "      <td>0.166897</td>\n",
              "      <td>1.000000</td>\n",
              "      <td>0.953483</td>\n",
              "      <td>0.049086</td>\n",
              "      <td>-0.059395</td>\n",
              "      <td>0.349020</td>\n",
              "      <td>-0.081250</td>\n",
              "      <td>0.159762</td>\n",
              "      <td>0.321030</td>\n",
              "    </tr>\n",
              "    <tr>\n",
              "      <th>Battery/full_capacity</th>\n",
              "      <td>0.188557</td>\n",
              "      <td>-0.067393</td>\n",
              "      <td>-0.002455</td>\n",
              "      <td>0.038357</td>\n",
              "      <td>0.953483</td>\n",
              "      <td>1.000000</td>\n",
              "      <td>0.160149</td>\n",
              "      <td>-0.079466</td>\n",
              "      <td>0.244411</td>\n",
              "      <td>-0.190677</td>\n",
              "      <td>0.025807</td>\n",
              "      <td>0.306116</td>\n",
              "    </tr>\n",
              "    <tr>\n",
              "      <th>Battery/time_to_discharge</th>\n",
              "      <td>0.163058</td>\n",
              "      <td>-0.002825</td>\n",
              "      <td>0.000726</td>\n",
              "      <td>-0.008331</td>\n",
              "      <td>0.049086</td>\n",
              "      <td>0.160149</td>\n",
              "      <td>1.000000</td>\n",
              "      <td>-0.001751</td>\n",
              "      <td>0.115537</td>\n",
              "      <td>-0.018871</td>\n",
              "      <td>-0.006296</td>\n",
              "      <td>-0.001341</td>\n",
              "    </tr>\n",
              "    <tr>\n",
              "      <th>MPPT/Input_voltage</th>\n",
              "      <td>0.045127</td>\n",
              "      <td>0.076392</td>\n",
              "      <td>-0.172579</td>\n",
              "      <td>0.234052</td>\n",
              "      <td>-0.059395</td>\n",
              "      <td>-0.079466</td>\n",
              "      <td>-0.001751</td>\n",
              "      <td>1.000000</td>\n",
              "      <td>0.252259</td>\n",
              "      <td>0.009048</td>\n",
              "      <td>-0.117748</td>\n",
              "      <td>0.077569</td>\n",
              "    </tr>\n",
              "    <tr>\n",
              "      <th>Temperature/#1</th>\n",
              "      <td>0.195122</td>\n",
              "      <td>0.047651</td>\n",
              "      <td>-0.030268</td>\n",
              "      <td>0.451428</td>\n",
              "      <td>0.349020</td>\n",
              "      <td>0.244411</td>\n",
              "      <td>0.115537</td>\n",
              "      <td>0.252259</td>\n",
              "      <td>1.000000</td>\n",
              "      <td>0.093734</td>\n",
              "      <td>0.339806</td>\n",
              "      <td>0.129142</td>\n",
              "    </tr>\n",
              "    <tr>\n",
              "      <th>Input/RMS_voltage</th>\n",
              "      <td>-0.147897</td>\n",
              "      <td>-0.007029</td>\n",
              "      <td>-0.084616</td>\n",
              "      <td>0.272024</td>\n",
              "      <td>-0.081250</td>\n",
              "      <td>-0.190677</td>\n",
              "      <td>-0.018871</td>\n",
              "      <td>0.009048</td>\n",
              "      <td>0.093734</td>\n",
              "      <td>1.000000</td>\n",
              "      <td>0.143779</td>\n",
              "      <td>0.102812</td>\n",
              "    </tr>\n",
              "    <tr>\n",
              "      <th>Invertor/output_RMS_voltage</th>\n",
              "      <td>0.030535</td>\n",
              "      <td>-0.102207</td>\n",
              "      <td>-0.041952</td>\n",
              "      <td>0.017358</td>\n",
              "      <td>0.159762</td>\n",
              "      <td>0.025807</td>\n",
              "      <td>-0.006296</td>\n",
              "      <td>-0.117748</td>\n",
              "      <td>0.339806</td>\n",
              "      <td>0.143779</td>\n",
              "      <td>1.000000</td>\n",
              "      <td>-0.059507</td>\n",
              "    </tr>\n",
              "    <tr>\n",
              "      <th>Stack_uptime</th>\n",
              "      <td>-0.017459</td>\n",
              "      <td>-0.032032</td>\n",
              "      <td>-0.030420</td>\n",
              "      <td>0.226275</td>\n",
              "      <td>0.321030</td>\n",
              "      <td>0.306116</td>\n",
              "      <td>-0.001341</td>\n",
              "      <td>0.077569</td>\n",
              "      <td>0.129142</td>\n",
              "      <td>0.102812</td>\n",
              "      <td>-0.059507</td>\n",
              "      <td>1.000000</td>\n",
              "    </tr>\n",
              "  </tbody>\n",
              "</table>\n",
              "</div>"
            ],
            "text/plain": [
              "                             Full_consumption  ...  Stack_uptime\n",
              "Full_consumption                     1.000000  ...     -0.017459\n",
              "Weekday                              0.168842  ...     -0.032032\n",
              "Hour                                 0.012836  ...     -0.030420\n",
              "Reserve/charge_level                 0.077514  ...      0.226275\n",
              "Battery/remaining_capacity           0.167760  ...      0.321030\n",
              "Battery/full_capacity                0.188557  ...      0.306116\n",
              "Battery/time_to_discharge            0.163058  ...     -0.001341\n",
              "MPPT/Input_voltage                   0.045127  ...      0.077569\n",
              "Temperature/#1                       0.195122  ...      0.129142\n",
              "Input/RMS_voltage                   -0.147897  ...      0.102812\n",
              "Invertor/output_RMS_voltage          0.030535  ...     -0.059507\n",
              "Stack_uptime                        -0.017459  ...      1.000000\n",
              "\n",
              "[12 rows x 12 columns]"
            ]
          },
          "metadata": {},
          "execution_count": 21
        }
      ]
    },
    {
      "cell_type": "code",
      "metadata": {
        "colab": {
          "base_uri": "https://localhost:8080/",
          "height": 441
        },
        "id": "ULzfB8p42wOC",
        "outputId": "f17b1ea2-6f78-49b0-ef74-e040458261e7"
      },
      "source": [
        "df[cols].resample('30T').mean().corr()"
      ],
      "execution_count": null,
      "outputs": [
        {
          "output_type": "execute_result",
          "data": {
            "text/html": [
              "<div>\n",
              "<style scoped>\n",
              "    .dataframe tbody tr th:only-of-type {\n",
              "        vertical-align: middle;\n",
              "    }\n",
              "\n",
              "    .dataframe tbody tr th {\n",
              "        vertical-align: top;\n",
              "    }\n",
              "\n",
              "    .dataframe thead th {\n",
              "        text-align: right;\n",
              "    }\n",
              "</style>\n",
              "<table border=\"1\" class=\"dataframe\">\n",
              "  <thead>\n",
              "    <tr style=\"text-align: right;\">\n",
              "      <th></th>\n",
              "      <th>Full_consumption</th>\n",
              "      <th>Weekday</th>\n",
              "      <th>Hour</th>\n",
              "      <th>Reserve/charge_level</th>\n",
              "      <th>Battery/remaining_capacity</th>\n",
              "      <th>Battery/full_capacity</th>\n",
              "      <th>Battery/time_to_discharge</th>\n",
              "      <th>MPPT/Input_voltage</th>\n",
              "      <th>Temperature/#1</th>\n",
              "      <th>Input/RMS_voltage</th>\n",
              "      <th>Invertor/output_RMS_voltage</th>\n",
              "      <th>Stack_uptime</th>\n",
              "    </tr>\n",
              "  </thead>\n",
              "  <tbody>\n",
              "    <tr>\n",
              "      <th>Full_consumption</th>\n",
              "      <td>1.000000</td>\n",
              "      <td>0.213674</td>\n",
              "      <td>0.014793</td>\n",
              "      <td>0.200274</td>\n",
              "      <td>0.126539</td>\n",
              "      <td>0.123769</td>\n",
              "      <td>0.017656</td>\n",
              "      <td>0.077540</td>\n",
              "      <td>0.223409</td>\n",
              "      <td>-0.116143</td>\n",
              "      <td>0.076017</td>\n",
              "      <td>0.031343</td>\n",
              "    </tr>\n",
              "    <tr>\n",
              "      <th>Weekday</th>\n",
              "      <td>0.213674</td>\n",
              "      <td>1.000000</td>\n",
              "      <td>-0.026026</td>\n",
              "      <td>0.117825</td>\n",
              "      <td>-0.152322</td>\n",
              "      <td>-0.152395</td>\n",
              "      <td>-0.028215</td>\n",
              "      <td>0.074711</td>\n",
              "      <td>0.005744</td>\n",
              "      <td>-0.025624</td>\n",
              "      <td>-0.148511</td>\n",
              "      <td>-0.086505</td>\n",
              "    </tr>\n",
              "    <tr>\n",
              "      <th>Hour</th>\n",
              "      <td>0.014793</td>\n",
              "      <td>-0.026026</td>\n",
              "      <td>1.000000</td>\n",
              "      <td>-0.013995</td>\n",
              "      <td>-0.022763</td>\n",
              "      <td>-0.003727</td>\n",
              "      <td>0.006908</td>\n",
              "      <td>-0.184602</td>\n",
              "      <td>-0.040501</td>\n",
              "      <td>-0.087188</td>\n",
              "      <td>-0.066990</td>\n",
              "      <td>-0.011369</td>\n",
              "    </tr>\n",
              "    <tr>\n",
              "      <th>Reserve/charge_level</th>\n",
              "      <td>0.200274</td>\n",
              "      <td>0.117825</td>\n",
              "      <td>-0.013995</td>\n",
              "      <td>1.000000</td>\n",
              "      <td>0.242803</td>\n",
              "      <td>0.175741</td>\n",
              "      <td>-0.073446</td>\n",
              "      <td>0.256392</td>\n",
              "      <td>0.641787</td>\n",
              "      <td>0.204119</td>\n",
              "      <td>-0.012970</td>\n",
              "      <td>0.234848</td>\n",
              "    </tr>\n",
              "    <tr>\n",
              "      <th>Battery/remaining_capacity</th>\n",
              "      <td>0.126539</td>\n",
              "      <td>-0.152322</td>\n",
              "      <td>-0.022763</td>\n",
              "      <td>0.242803</td>\n",
              "      <td>1.000000</td>\n",
              "      <td>0.966452</td>\n",
              "      <td>-0.023002</td>\n",
              "      <td>-0.035319</td>\n",
              "      <td>0.309749</td>\n",
              "      <td>0.070358</td>\n",
              "      <td>0.092601</td>\n",
              "      <td>0.566816</td>\n",
              "    </tr>\n",
              "    <tr>\n",
              "      <th>Battery/full_capacity</th>\n",
              "      <td>0.123769</td>\n",
              "      <td>-0.152395</td>\n",
              "      <td>-0.003727</td>\n",
              "      <td>0.175741</td>\n",
              "      <td>0.966452</td>\n",
              "      <td>1.000000</td>\n",
              "      <td>0.040395</td>\n",
              "      <td>-0.045536</td>\n",
              "      <td>0.198640</td>\n",
              "      <td>-0.040445</td>\n",
              "      <td>-0.039237</td>\n",
              "      <td>0.594407</td>\n",
              "    </tr>\n",
              "    <tr>\n",
              "      <th>Battery/time_to_discharge</th>\n",
              "      <td>0.017656</td>\n",
              "      <td>-0.028215</td>\n",
              "      <td>0.006908</td>\n",
              "      <td>-0.073446</td>\n",
              "      <td>-0.023002</td>\n",
              "      <td>0.040395</td>\n",
              "      <td>1.000000</td>\n",
              "      <td>-0.018716</td>\n",
              "      <td>-0.045360</td>\n",
              "      <td>-0.061380</td>\n",
              "      <td>0.000389</td>\n",
              "      <td>-0.017022</td>\n",
              "    </tr>\n",
              "    <tr>\n",
              "      <th>MPPT/Input_voltage</th>\n",
              "      <td>0.077540</td>\n",
              "      <td>0.074711</td>\n",
              "      <td>-0.184602</td>\n",
              "      <td>0.256392</td>\n",
              "      <td>-0.035319</td>\n",
              "      <td>-0.045536</td>\n",
              "      <td>-0.018716</td>\n",
              "      <td>1.000000</td>\n",
              "      <td>0.394630</td>\n",
              "      <td>-0.020676</td>\n",
              "      <td>-0.135906</td>\n",
              "      <td>0.070843</td>\n",
              "    </tr>\n",
              "    <tr>\n",
              "      <th>Temperature/#1</th>\n",
              "      <td>0.223409</td>\n",
              "      <td>0.005744</td>\n",
              "      <td>-0.040501</td>\n",
              "      <td>0.641787</td>\n",
              "      <td>0.309749</td>\n",
              "      <td>0.198640</td>\n",
              "      <td>-0.045360</td>\n",
              "      <td>0.394630</td>\n",
              "      <td>1.000000</td>\n",
              "      <td>0.276548</td>\n",
              "      <td>0.306317</td>\n",
              "      <td>0.112407</td>\n",
              "    </tr>\n",
              "    <tr>\n",
              "      <th>Input/RMS_voltage</th>\n",
              "      <td>-0.116143</td>\n",
              "      <td>-0.025624</td>\n",
              "      <td>-0.087188</td>\n",
              "      <td>0.204119</td>\n",
              "      <td>0.070358</td>\n",
              "      <td>-0.040445</td>\n",
              "      <td>-0.061380</td>\n",
              "      <td>-0.020676</td>\n",
              "      <td>0.276548</td>\n",
              "      <td>1.000000</td>\n",
              "      <td>0.106253</td>\n",
              "      <td>0.081255</td>\n",
              "    </tr>\n",
              "    <tr>\n",
              "      <th>Invertor/output_RMS_voltage</th>\n",
              "      <td>0.076017</td>\n",
              "      <td>-0.148511</td>\n",
              "      <td>-0.066990</td>\n",
              "      <td>-0.012970</td>\n",
              "      <td>0.092601</td>\n",
              "      <td>-0.039237</td>\n",
              "      <td>0.000389</td>\n",
              "      <td>-0.135906</td>\n",
              "      <td>0.306317</td>\n",
              "      <td>0.106253</td>\n",
              "      <td>1.000000</td>\n",
              "      <td>-0.272964</td>\n",
              "    </tr>\n",
              "    <tr>\n",
              "      <th>Stack_uptime</th>\n",
              "      <td>0.031343</td>\n",
              "      <td>-0.086505</td>\n",
              "      <td>-0.011369</td>\n",
              "      <td>0.234848</td>\n",
              "      <td>0.566816</td>\n",
              "      <td>0.594407</td>\n",
              "      <td>-0.017022</td>\n",
              "      <td>0.070843</td>\n",
              "      <td>0.112407</td>\n",
              "      <td>0.081255</td>\n",
              "      <td>-0.272964</td>\n",
              "      <td>1.000000</td>\n",
              "    </tr>\n",
              "  </tbody>\n",
              "</table>\n",
              "</div>"
            ],
            "text/plain": [
              "                             Full_consumption  ...  Stack_uptime\n",
              "Full_consumption                     1.000000  ...      0.031343\n",
              "Weekday                              0.213674  ...     -0.086505\n",
              "Hour                                 0.014793  ...     -0.011369\n",
              "Reserve/charge_level                 0.200274  ...      0.234848\n",
              "Battery/remaining_capacity           0.126539  ...      0.566816\n",
              "Battery/full_capacity                0.123769  ...      0.594407\n",
              "Battery/time_to_discharge            0.017656  ...     -0.017022\n",
              "MPPT/Input_voltage                   0.077540  ...      0.070843\n",
              "Temperature/#1                       0.223409  ...      0.112407\n",
              "Input/RMS_voltage                   -0.116143  ...      0.081255\n",
              "Invertor/output_RMS_voltage          0.076017  ...     -0.272964\n",
              "Stack_uptime                         0.031343  ...      1.000000\n",
              "\n",
              "[12 rows x 12 columns]"
            ]
          },
          "metadata": {},
          "execution_count": 22
        }
      ]
    },
    {
      "cell_type": "markdown",
      "metadata": {
        "id": "tYvd7ReR4GsG"
      },
      "source": [
        "## Find the missing time periods"
      ]
    },
    {
      "cell_type": "code",
      "metadata": {
        "colab": {
          "base_uri": "https://localhost:8080/"
        },
        "id": "XiWskIu2yYrV",
        "outputId": "375f02d1-52ae-4433-d486-a3fb02ead578"
      },
      "source": [
        "df['Time']=list(df.index)\n",
        "x=[]\n",
        "for i in range(1,len(df)):\n",
        "  if (df.Time[i] - df.Time[i-1] )> dt.timedelta(minutes=1):\n",
        "    print(f'Found timedelta {i} {df.Time[i] - df.Time[i-1]} timestamps: {df.Time[i]} and {df.Time[i-1]}')\n",
        "    x.append(i)"
      ],
      "execution_count": null,
      "outputs": [
        {
          "output_type": "stream",
          "name": "stdout",
          "text": [
            "Found timedelta 106410 2 days 02:02:52.779984 timestamps: 2021-08-30 12:51:33.718134 and 2021-08-28 10:48:40.938150\n",
            "Found timedelta 106472 0 days 00:04:57.238913 timestamps: 2021-08-30 13:25:20.606823 and 2021-08-30 13:20:23.367910\n",
            "Found timedelta 106480 0 days 00:01:04.528457 timestamps: 2021-08-30 13:28:26.337166 and 2021-08-30 13:27:21.808709\n",
            "Found timedelta 113848 1 days 22:33:55.905823 timestamps: 2021-09-03 16:33:19.407313 and 2021-09-01 17:59:23.501490\n",
            "Found timedelta 113852 0 days 00:02:28.600054 timestamps: 2021-09-03 16:36:44.537963 and 2021-09-03 16:34:15.937909\n",
            "Found timedelta 116025 0 days 00:07:50.663321 timestamps: 2021-09-04 10:50:57.735765 and 2021-09-04 10:43:07.072444\n",
            "Found timedelta 116709 0 days 00:02:05.729350 timestamps: 2021-09-04 15:00:46.707963 and 2021-09-04 14:58:40.978613\n",
            "Found timedelta 116719 0 days 00:01:43.272220 timestamps: 2021-09-04 15:03:42.536958 and 2021-09-04 15:01:59.264738\n",
            "Found timedelta 116760 0 days 00:03:46.843141 timestamps: 2021-09-04 15:21:59.847595 and 2021-09-04 15:18:13.004454\n",
            "Found timedelta 116794 0 days 00:02:19.169131 timestamps: 2021-09-04 15:36:52.228323 and 2021-09-04 15:34:33.059192\n",
            "Found timedelta 117318 0 days 00:02:10.201435 timestamps: 2021-09-04 16:20:05.468745 and 2021-09-04 16:17:55.267310\n",
            "Found timedelta 118002 0 days 00:02:53.143865 timestamps: 2021-09-04 16:58:27.214948 and 2021-09-04 16:55:34.071083\n",
            "Found timedelta 118416 0 days 19:45:48.216331 timestamps: 2021-09-05 13:22:42.697399 and 2021-09-04 17:36:54.481068\n",
            "Found timedelta 118459 0 days 00:28:01.833947 timestamps: 2021-09-05 14:03:52.722471 and 2021-09-05 13:35:50.888524\n",
            "Found timedelta 118463 0 days 01:30:37.041761 timestamps: 2021-09-05 15:35:26.105358 and 2021-09-05 14:04:49.063597\n",
            "Found timedelta 118468 0 days 15:12:36.208418 timestamps: 2021-09-06 06:49:29.309077 and 2021-09-05 15:36:53.100659\n",
            "Found timedelta 118477 0 days 00:05:53.186223 timestamps: 2021-09-06 06:57:10.740102 and 2021-09-06 06:51:17.553879\n",
            "Found timedelta 118481 0 days 05:27:07.770532 timestamps: 2021-09-06 12:25:21.992812 and 2021-09-06 06:58:14.222280\n",
            "Found timedelta 118491 0 days 00:03:14.723175 timestamps: 2021-09-06 12:29:57.136309 and 2021-09-06 12:26:42.413134\n",
            "Found timedelta 118542 0 days 00:03:11.927222 timestamps: 2021-09-06 12:50:48.950083 and 2021-09-06 12:47:37.022861\n",
            "Found timedelta 118599 0 days 00:02:24.295960 timestamps: 2021-09-06 13:20:12.575106 and 2021-09-06 13:17:48.279146\n",
            "Found timedelta 119154 0 days 00:02:45.478426 timestamps: 2021-09-06 14:00:26.986185 and 2021-09-06 13:57:41.507759\n",
            "Found timedelta 119890 0 days 00:03:02.901929 timestamps: 2021-09-06 14:36:13.020432 and 2021-09-06 14:33:10.118503\n",
            "Found timedelta 120674 0 days 00:02:51.444694 timestamps: 2021-09-06 15:16:41.171054 and 2021-09-06 15:13:49.726360\n"
          ]
        }
      ]
    },
    {
      "cell_type": "markdown",
      "metadata": {
        "id": "_4ACISTVt9uT"
      },
      "source": [
        "# Graph of Full_consumption\n",
        "Have a look on parameter on time"
      ]
    },
    {
      "cell_type": "code",
      "metadata": {
        "id": "XrCWPICql4YY"
      },
      "source": [
        "def Params_sigma_Anomaly_graths_on_time (timeseries, Score, window, sigma):\n",
        " \n",
        "      df_param =timeseries[[Score]] #[45000:50000]    \n",
        "      # Tail-rolling average transform\n",
        "      rolling = df_param.rolling(window)     \n",
        "      \n",
        "      #df_param['Upp']=df_param[Score][df_param[Score]>(rolling.mean()+sigma*rolling.std())]\n",
        "      \n",
        "      #df_param['Low']=df_param[Score][df_param[Score]<(rolling.mean()-sigma*rolling.std())]\n",
        "      \n",
        "      #df_param['Anomaly'] = df_param.Upp.fillna(df_param.Low)     \n",
        "      \n",
        "      \n",
        "      # plot original and transformed dataset\n",
        "      fig = plt.subplots(figsize=(17, 2))\n",
        "      plt.plot(df_param[Score], 'b', label='parameters scores')\n",
        "      plt.plot(df_param[Score].rolling(window).mean(), 'g', label='moving average')\n",
        "      \n",
        "      #plt.plot(df_param.Anomaly, 'ro', label='3sima anomaly')\n",
        "\n",
        "      plt.ylabel(Score)\n",
        "      plt.title(Score+' score')\n",
        "      plt.legend()\n"
      ],
      "execution_count": null,
      "outputs": []
    },
    {
      "cell_type": "code",
      "metadata": {
        "colab": {
          "base_uri": "https://localhost:8080/",
          "height": 144
        },
        "id": "iHK74XiJPp39",
        "outputId": "1c3f7083-47f6-4fa0-d065-9fe9f907a424"
      },
      "source": [
        "df_1=df.resample(\"1H\").mean()\n",
        "Params_sigma_Anomaly_graths_on_time(df_1, 'Full_consumption', 5, 3)"
      ],
      "execution_count": null,
      "outputs": [
        {
          "output_type": "display_data",
          "data": {
            "image/png": "[encoded data removed]",
            "text/plain": [
              "<Figure size 1224x144 with 1 Axes>"
            ]
          },
          "metadata": {
            "needs_background": "light"
          }
        }
      ]
    }
  ]
}
